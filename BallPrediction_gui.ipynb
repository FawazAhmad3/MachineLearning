{
  "nbformat": 4,
  "nbformat_minor": 0,
  "metadata": {
    "colab": {
      "provenance": [],
      "gpuType": "V28",
      "authorship_tag": "ABX9TyOJvM3x3zujsPmbFTvwL68B",
      "include_colab_link": true
    },
    "kernelspec": {
      "name": "python3",
      "display_name": "Python 3"
    },
    "language_info": {
      "name": "python"
    },
    "accelerator": "TPU"
  },
  "cells": [
    {
      "cell_type": "markdown",
      "metadata": {
        "id": "view-in-github",
        "colab_type": "text"
      },
      "source": [
        "<a href=\"https://colab.research.google.com/github/FawazAhmad3/MachineLearning/blob/main/BallPrediction_gui.ipynb\" target=\"_parent\"><img src=\"https://colab.research.google.com/assets/colab-badge.svg\" alt=\"Open In Colab\"/></a>"
      ]
    },
    {
      "cell_type": "code",
      "source": [
        "from google.colab import drive\n",
        "drive.mount('/content/drive')\n"
      ],
      "metadata": {
        "id": "ymkeHb8WObBp"
      },
      "execution_count": null,
      "outputs": []
    },
    {
      "cell_type": "code",
      "source": [
        "import os\n",
        "import numpy as np\n",
        "from PIL import Image, UnidentifiedImageError\n",
        "import matplotlib.pyplot as plt\n",
        "import random\n",
        "import tensorflow as tf\n",
        "from tensorflow.keras.models import Sequential\n",
        "from tensorflow.keras.layers import Conv2D, MaxPooling2D, Flatten, Dense, Dropout\n",
        "from tensorflow.keras.utils import to_categorical\n",
        "from tensorflow.keras.preprocessing.image import ImageDataGenerator\n",
        "from tensorflow.keras.callbacks import EarlyStopping, ReduceLROnPlateau\n"
      ],
      "metadata": {
        "id": "wldIPCEtc3LP"
      },
      "execution_count": 35,
      "outputs": []
    },
    {
      "cell_type": "code",
      "source": [
        "\n",
        "# Function to load images from a directory and label them\n",
        "def load_images_from_folder(folder):\n",
        "    images = []\n",
        "    labels = []\n",
        "    class_names = sorted([d for d in os.listdir(folder) if os.path.isdir(os.path.join(folder, d))])  # Filter to only directories\n",
        "    for label, class_name in enumerate(class_names):\n",
        "        class_folder = os.path.join(folder, class_name)\n",
        "        for filename in os.listdir(class_folder):\n",
        "            img_path = os.path.join(class_folder, filename)\n",
        "            try:\n",
        "                # Open the image file and convert to RGB\n",
        "                with Image.open(img_path) as img:\n",
        "                    img = img.convert('RGB')  # Ensure all images are RGB\n",
        "                    img = img.resize((100, 100))\n",
        "                    img_array = np.array(img)\n",
        "                    images.append(img_array)\n",
        "                    labels.append(label)\n",
        "            except (IOError, UnidentifiedImageError) as e:\n",
        "                # Skip files that can't be identified as images\n",
        "                print(f\"Skipping file {img_path}: {e}\")\n",
        "    return np.array(images), np.array(labels)\n"
      ],
      "metadata": {
        "id": "K-gPx0BphAxf"
      },
      "execution_count": 25,
      "outputs": []
    },
    {
      "cell_type": "code",
      "source": [
        "\n",
        "# Load training and testing data\n",
        "train_folder = '/content/drive/MyDrive/multiclassCNN/train'\n",
        "test_folder = '/content/drive/MyDrive/multiclassCNN/test'\n",
        "\n",
        "x_train, y_train = load_images_from_folder(train_folder)\n",
        "x_test, y_test = load_images_from_folder(test_folder)\n",
        "\n",
        "# Normalize the data\n",
        "x_train = x_train / 255.0\n",
        "x_test = x_test / 255.0\n",
        "\n",
        "# Convert labels to categorical (one-hot encoding)\n",
        "num_classes = len(np.unique(y_train))\n",
        "y_train = to_categorical(y_train, num_classes)\n",
        "y_test = to_categorical(y_test, num_classes)\n"
      ],
      "metadata": {
        "id": "VSQ0B9AzhGVR"
      },
      "execution_count": 26,
      "outputs": []
    },
    {
      "cell_type": "code",
      "source": [
        "# Load VGG16 model without the top layers (classification layers)\n",
        "base_model = VGG16(weights='imagenet', include_top=False, input_shape=(100, 100, 3))\n"
      ],
      "metadata": {
        "id": "K-tdvyIaqwO2"
      },
      "execution_count": 43,
      "outputs": []
    },
    {
      "cell_type": "code",
      "source": [
        "# Freeze the layers of the base model\n",
        "for layer in base_model.layers:\n",
        "    layer.trainable = False\n"
      ],
      "metadata": {
        "id": "W4JuyLbLqyRp"
      },
      "execution_count": 44,
      "outputs": []
    },
    {
      "cell_type": "code",
      "source": [
        "\n",
        "# Build the new model on top of the base VGG16 model\n",
        "model = Sequential([\n",
        "    base_model,\n",
        "    GlobalAveragePooling2D(),\n",
        "    Dense(256, activation='relu'),\n",
        "    Dropout(0.5),\n",
        "    Dense(num_classes, activation='softmax')\n",
        "])\n",
        "\n"
      ],
      "metadata": {
        "id": "PygYusvWhMdR"
      },
      "execution_count": 45,
      "outputs": []
    },
    {
      "cell_type": "code",
      "source": [
        "# Define callbacks\n",
        "early_stopping = EarlyStopping(monitor='val_loss', patience=5, restore_best_weights=True)\n",
        "lr_scheduler = ReduceLROnPlateau(monitor='val_loss', factor=0.5, patience=3, min_lr=1e-6)\n"
      ],
      "metadata": {
        "id": "n1ohiDWQkbzQ"
      },
      "execution_count": 46,
      "outputs": []
    },
    {
      "cell_type": "code",
      "source": [
        "\n",
        "# Data augmentation\n",
        "datagen = ImageDataGenerator(\n",
        "    rotation_range=20,\n",
        "    width_shift_range=0.2,\n",
        "    height_shift_range=0.2,\n",
        "    shear_range=0.2,\n",
        "    zoom_range=0.2,\n",
        "    horizontal_flip=True,\n",
        "    fill_mode='nearest'\n",
        ")\n"
      ],
      "metadata": {
        "id": "sD4akrLchQEC"
      },
      "execution_count": 47,
      "outputs": []
    },
    {
      "cell_type": "code",
      "source": [
        "\n",
        "# Compile the model\n",
        "model.compile(optimizer='adam', loss='categorical_crossentropy', metrics=['accuracy'])\n"
      ],
      "metadata": {
        "id": "c-3CHhceq64C"
      },
      "execution_count": 48,
      "outputs": []
    },
    {
      "cell_type": "code",
      "source": [
        "\n",
        "# Train the model\n",
        "model.fit(datagen.flow(x_train, y_train, batch_size=32), epochs=25, validation_data=(x_test, y_test), callbacks=[early_stopping, lr_scheduler])\n"
      ],
      "metadata": {
        "colab": {
          "base_uri": "https://localhost:8080/"
        },
        "id": "k3gjr7kshT9R",
        "outputId": "471dce47-93e6-4f91-b342-7ec3d86e1f8c"
      },
      "execution_count": 49,
      "outputs": [
        {
          "output_type": "stream",
          "name": "stdout",
          "text": [
            "Epoch 1/25\n",
            "229/229 [==============================] - 45s 195ms/step - loss: 2.3167 - accuracy: 0.2688 - val_loss: 1.8876 - val_accuracy: 0.4563 - lr: 0.0010\n",
            "Epoch 2/25\n",
            "229/229 [==============================] - 44s 193ms/step - loss: 1.8903 - accuracy: 0.4099 - val_loss: 1.6807 - val_accuracy: 0.4927 - lr: 0.0010\n",
            "Epoch 3/25\n",
            "229/229 [==============================] - 43s 189ms/step - loss: 1.7605 - accuracy: 0.4551 - val_loss: 1.5771 - val_accuracy: 0.5139 - lr: 0.0010\n",
            "Epoch 4/25\n",
            "229/229 [==============================] - 43s 189ms/step - loss: 1.6658 - accuracy: 0.4802 - val_loss: 1.5126 - val_accuracy: 0.5470 - lr: 0.0010\n",
            "Epoch 5/25\n",
            "229/229 [==============================] - 44s 191ms/step - loss: 1.6111 - accuracy: 0.4959 - val_loss: 1.4484 - val_accuracy: 0.5676 - lr: 0.0010\n",
            "Epoch 6/25\n",
            "229/229 [==============================] - 43s 186ms/step - loss: 1.5570 - accuracy: 0.5127 - val_loss: 1.4198 - val_accuracy: 0.5785 - lr: 0.0010\n",
            "Epoch 7/25\n",
            "229/229 [==============================] - 43s 189ms/step - loss: 1.5115 - accuracy: 0.5272 - val_loss: 1.3949 - val_accuracy: 0.5785 - lr: 0.0010\n",
            "Epoch 8/25\n",
            "229/229 [==============================] - 43s 187ms/step - loss: 1.4841 - accuracy: 0.5403 - val_loss: 1.3892 - val_accuracy: 0.5915 - lr: 0.0010\n",
            "Epoch 9/25\n",
            "229/229 [==============================] - 43s 188ms/step - loss: 1.4575 - accuracy: 0.5460 - val_loss: 1.3558 - val_accuracy: 0.5812 - lr: 0.0010\n",
            "Epoch 10/25\n",
            "229/229 [==============================] - 42s 185ms/step - loss: 1.4351 - accuracy: 0.5534 - val_loss: 1.3283 - val_accuracy: 0.5942 - lr: 0.0010\n",
            "Epoch 11/25\n",
            "229/229 [==============================] - 43s 187ms/step - loss: 1.3985 - accuracy: 0.5594 - val_loss: 1.3428 - val_accuracy: 0.5921 - lr: 0.0010\n",
            "Epoch 12/25\n",
            "229/229 [==============================] - 44s 191ms/step - loss: 1.3680 - accuracy: 0.5660 - val_loss: 1.3369 - val_accuracy: 0.5921 - lr: 0.0010\n",
            "Epoch 13/25\n",
            "229/229 [==============================] - 44s 191ms/step - loss: 1.3511 - accuracy: 0.5806 - val_loss: 1.3247 - val_accuracy: 0.5997 - lr: 0.0010\n",
            "Epoch 14/25\n",
            "229/229 [==============================] - 44s 190ms/step - loss: 1.3518 - accuracy: 0.5656 - val_loss: 1.3040 - val_accuracy: 0.6171 - lr: 0.0010\n",
            "Epoch 15/25\n",
            "229/229 [==============================] - 43s 187ms/step - loss: 1.3225 - accuracy: 0.5835 - val_loss: 1.2765 - val_accuracy: 0.6209 - lr: 0.0010\n",
            "Epoch 16/25\n",
            "229/229 [==============================] - 42s 185ms/step - loss: 1.3105 - accuracy: 0.5877 - val_loss: 1.2844 - val_accuracy: 0.6138 - lr: 0.0010\n",
            "Epoch 17/25\n",
            "229/229 [==============================] - 42s 184ms/step - loss: 1.2900 - accuracy: 0.5912 - val_loss: 1.2767 - val_accuracy: 0.6029 - lr: 0.0010\n",
            "Epoch 18/25\n",
            "229/229 [==============================] - 42s 185ms/step - loss: 1.2660 - accuracy: 0.6028 - val_loss: 1.2533 - val_accuracy: 0.6203 - lr: 0.0010\n",
            "Epoch 19/25\n",
            "229/229 [==============================] - 43s 187ms/step - loss: 1.2635 - accuracy: 0.5985 - val_loss: 1.2532 - val_accuracy: 0.6209 - lr: 0.0010\n",
            "Epoch 20/25\n",
            "229/229 [==============================] - 43s 188ms/step - loss: 1.2533 - accuracy: 0.6070 - val_loss: 1.2375 - val_accuracy: 0.6279 - lr: 0.0010\n",
            "Epoch 21/25\n",
            "229/229 [==============================] - 43s 187ms/step - loss: 1.2375 - accuracy: 0.6120 - val_loss: 1.2394 - val_accuracy: 0.6236 - lr: 0.0010\n",
            "Epoch 22/25\n",
            "229/229 [==============================] - 43s 187ms/step - loss: 1.2229 - accuracy: 0.6152 - val_loss: 1.2439 - val_accuracy: 0.6350 - lr: 0.0010\n",
            "Epoch 23/25\n",
            "229/229 [==============================] - 43s 186ms/step - loss: 1.2230 - accuracy: 0.6052 - val_loss: 1.2312 - val_accuracy: 0.6361 - lr: 0.0010\n",
            "Epoch 24/25\n",
            "229/229 [==============================] - 43s 190ms/step - loss: 1.2060 - accuracy: 0.6190 - val_loss: 1.2442 - val_accuracy: 0.6366 - lr: 0.0010\n",
            "Epoch 25/25\n",
            "229/229 [==============================] - 43s 189ms/step - loss: 1.2100 - accuracy: 0.6180 - val_loss: 1.2275 - val_accuracy: 0.6410 - lr: 0.0010\n"
          ]
        },
        {
          "output_type": "execute_result",
          "data": {
            "text/plain": [
              "<keras.src.callbacks.History at 0x7bf9f8977e20>"
            ]
          },
          "metadata": {},
          "execution_count": 49
        }
      ]
    },
    {
      "cell_type": "code",
      "source": [
        "\n",
        "# Evaluate the model\n",
        "loss, accuracy = model.evaluate(x_test, y_test)\n",
        "print(f\"Test Loss: {loss:.4f}\")\n",
        "print(f\"Test Accuracy: {accuracy * 100:.2f}%\")\n"
      ],
      "metadata": {
        "colab": {
          "base_uri": "https://localhost:8080/"
        },
        "id": "lrXPUofChV6A",
        "outputId": "7122effe-264b-44b1-dd24-a6876eb456be"
      },
      "execution_count": 50,
      "outputs": [
        {
          "metadata": {
            "tags": null
          },
          "name": "stdout",
          "output_type": "stream",
          "text": [
            "58/58 [==============================] - 8s 145ms/step - loss: 1.2275 - accuracy: 0.6410\n",
            "Test Loss: 1.2275\n",
            "Test Accuracy: 64.10%\n"
          ]
        }
      ]
    },
    {
      "cell_type": "code",
      "source": [
        "\n",
        "# Display a random image and its prediction\n",
        "idx2 = random.randint(0, len(x_test) - 1)\n",
        "plt.imshow(x_test[idx2])\n",
        "plt.show()\n",
        "\n",
        "# Predict the class of the image\n",
        "y_pred = model.predict(x_test[idx2, :].reshape(1, 100, 100, 3))\n",
        "predicted_class_idx = np.argmax(y_pred)\n",
        "\n",
        "# Get the class names from the folder structure\n",
        "class_names = sorted([d for d in os.listdir(train_folder) if os.path.isdir(os.path.join(train_folder, d))])\n",
        "\n",
        "# Map the predicted class index and actual class index to their respective class names\n",
        "predicted_class_name = class_names[predicted_class_idx]\n",
        "actual_class_name = class_names[np.argmax(y_test[idx2])]\n",
        "\n",
        "print(f\"Predicted Class: {predicted_class_name}, Actual Class: {actual_class_name}\")\n"
      ],
      "metadata": {
        "colab": {
          "base_uri": "https://localhost:8080/",
          "height": 469
        },
        "id": "t0YpvNgxhXT9",
        "outputId": "212447ad-465e-401f-c31a-c4a022d9ac2c"
      },
      "execution_count": 51,
      "outputs": [
        {
          "data": {
            "image/png": "[encoded data removed]",
            "text/plain": [
              "<Figure size 640x480 with 1 Axes>"
            ]
          },
          "metadata": {},
          "output_type": "display_data"
        },
        {
          "metadata": {
            "tags": null
          },
          "name": "stdout",
          "output_type": "stream",
          "text": [
            "1/1 [==============================] - 0s 194ms/step\n",
            "Predicted Class: basketball, Actual Class: basketball\n"
          ]
        }
      ]
    },
    {
      "cell_type": "code",
      "source": [
        "!wget -q -O - ipv4.icanhazip.com"
      ],
      "metadata": {
        "colab": {
          "base_uri": "https://localhost:8080/"
        },
        "id": "Q12-bZKnLKh-",
        "outputId": "f11c852b-6c27-4b21-e51d-a6dd1858596c"
      },
      "execution_count": 52,
      "outputs": [
        {
          "output_type": "stream",
          "name": "stdout",
          "text": [
            "35.193.146.185\n"
          ]
        }
      ]
    },
    {
      "cell_type": "code",
      "source": [
        "! streamlit run app.py & npx localtunnel --port 8501"
      ],
      "metadata": {
        "colab": {
          "base_uri": "https://localhost:8080/"
        },
        "id": "t4zcWJOlLa2W",
        "outputId": "38c0f3d7-249c-472c-9a77-9df5ab61ddc8"
      },
      "execution_count": null,
      "outputs": [
        {
          "output_type": "stream",
          "name": "stdout",
          "text": [
            "\n",
            "Collecting usage statistics. To deactivate, set browser.gatherUsageStats to false.\n",
            "\u001b[0m\n",
            "\u001b[0m\n",
            "\u001b[34m\u001b[1m  You can now view your Streamlit app in your browser.\u001b[0m\n",
            "\u001b[0m\n",
            "\u001b[34m  Local URL: \u001b[0m\u001b[1mhttp://localhost:8501\u001b[0m\n",
            "\u001b[34m  Network URL: \u001b[0m\u001b[1mhttp://172.28.0.2:8501\u001b[0m\n",
            "\u001b[34m  External URL: \u001b[0m\u001b[1mhttp://35.193.146.185:8501\u001b[0m\n",
            "\u001b[0m\n",
            "your url is: https://tame-planes-shine.loca.lt\n",
            "1/1 [==============================] - 0s 264ms/step\n"
          ]
        }
      ]
    }
  ]
}