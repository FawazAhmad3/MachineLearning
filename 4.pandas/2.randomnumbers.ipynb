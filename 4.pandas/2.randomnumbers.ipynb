{
 "cells": [
  {
   "cell_type": "code",
   "execution_count": 1,
   "metadata": {},
   "outputs": [],
   "source": [
    "import numpy as np \n",
    "import pandas as pd"
   ]
  },
  {
   "cell_type": "markdown",
   "metadata": {},
   "source": [
    "To generate the series of random numbers"
   ]
  },
  {
   "cell_type": "code",
   "execution_count": 7,
   "metadata": {},
   "outputs": [],
   "source": [
    "ser = pd.Series(np.random.rand(5))"
   ]
  },
  {
   "cell_type": "code",
   "execution_count": 8,
   "metadata": {},
   "outputs": [
    {
     "data": {
      "text/plain": [
       "0    0.861102\n",
       "1    0.093895\n",
       "2    0.174548\n",
       "3    0.592527\n",
       "4    0.631406\n",
       "dtype: float64"
      ]
     },
     "execution_count": 8,
     "metadata": {},
     "output_type": "execute_result"
    }
   ],
   "source": [
    "ser"
   ]
  },
  {
   "cell_type": "code",
   "execution_count": 9,
   "metadata": {},
   "outputs": [
    {
     "data": {
      "text/plain": [
       "pandas.core.series.Series"
      ]
     },
     "execution_count": 9,
     "metadata": {},
     "output_type": "execute_result"
    }
   ],
   "source": [
    "type(ser)"
   ]
  },
  {
   "cell_type": "markdown",
   "metadata": {},
   "source": [
    "Now we will create the DATA FRAME"
   ]
  },
  {
   "cell_type": "code",
   "execution_count": 10,
   "metadata": {},
   "outputs": [],
   "source": [
    "newdf = pd.DataFrame(np.random.rand(300,5), index=np.arange(300))"
   ]
  },
  {
   "cell_type": "code",
   "execution_count": 11,
   "metadata": {},
   "outputs": [
    {
     "data": {
      "text/html": [
       "<div>\n",
       "<style scoped>\n",
       "    .dataframe tbody tr th:only-of-type {\n",
       "        vertical-align: middle;\n",
       "    }\n",
       "\n",
       "    .dataframe tbody tr th {\n",
       "        vertical-align: top;\n",
       "    }\n",
       "\n",
       "    .dataframe thead th {\n",
       "        text-align: right;\n",
       "    }\n",
       "</style>\n",
       "<table border=\"1\" class=\"dataframe\">\n",
       "  <thead>\n",
       "    <tr style=\"text-align: right;\">\n",
       "      <th></th>\n",
       "      <th>0</th>\n",
       "      <th>1</th>\n",
       "      <th>2</th>\n",
       "      <th>3</th>\n",
       "      <th>4</th>\n",
       "    </tr>\n",
       "  </thead>\n",
       "  <tbody>\n",
       "    <tr>\n",
       "      <th>0</th>\n",
       "      <td>0.694344</td>\n",
       "      <td>0.071786</td>\n",
       "      <td>0.191817</td>\n",
       "      <td>0.429858</td>\n",
       "      <td>0.538958</td>\n",
       "    </tr>\n",
       "    <tr>\n",
       "      <th>1</th>\n",
       "      <td>0.861704</td>\n",
       "      <td>0.633711</td>\n",
       "      <td>0.978100</td>\n",
       "      <td>0.072034</td>\n",
       "      <td>0.069362</td>\n",
       "    </tr>\n",
       "    <tr>\n",
       "      <th>2</th>\n",
       "      <td>0.674861</td>\n",
       "      <td>0.999032</td>\n",
       "      <td>0.296582</td>\n",
       "      <td>0.448499</td>\n",
       "      <td>0.943366</td>\n",
       "    </tr>\n",
       "    <tr>\n",
       "      <th>3</th>\n",
       "      <td>0.975078</td>\n",
       "      <td>0.560416</td>\n",
       "      <td>0.113962</td>\n",
       "      <td>0.111061</td>\n",
       "      <td>0.504165</td>\n",
       "    </tr>\n",
       "    <tr>\n",
       "      <th>4</th>\n",
       "      <td>0.133933</td>\n",
       "      <td>0.875183</td>\n",
       "      <td>0.090996</td>\n",
       "      <td>0.803651</td>\n",
       "      <td>0.262283</td>\n",
       "    </tr>\n",
       "  </tbody>\n",
       "</table>\n",
       "</div>"
      ],
      "text/plain": [
       "          0         1         2         3         4\n",
       "0  0.694344  0.071786  0.191817  0.429858  0.538958\n",
       "1  0.861704  0.633711  0.978100  0.072034  0.069362\n",
       "2  0.674861  0.999032  0.296582  0.448499  0.943366\n",
       "3  0.975078  0.560416  0.113962  0.111061  0.504165\n",
       "4  0.133933  0.875183  0.090996  0.803651  0.262283"
      ]
     },
     "execution_count": 11,
     "metadata": {},
     "output_type": "execute_result"
    }
   ],
   "source": [
    "newdf.head()"
   ]
  },
  {
   "cell_type": "code",
   "execution_count": 12,
   "metadata": {},
   "outputs": [
    {
     "data": {
      "text/html": [
       "<div>\n",
       "<style scoped>\n",
       "    .dataframe tbody tr th:only-of-type {\n",
       "        vertical-align: middle;\n",
       "    }\n",
       "\n",
       "    .dataframe tbody tr th {\n",
       "        vertical-align: top;\n",
       "    }\n",
       "\n",
       "    .dataframe thead th {\n",
       "        text-align: right;\n",
       "    }\n",
       "</style>\n",
       "<table border=\"1\" class=\"dataframe\">\n",
       "  <thead>\n",
       "    <tr style=\"text-align: right;\">\n",
       "      <th></th>\n",
       "      <th>0</th>\n",
       "      <th>1</th>\n",
       "      <th>2</th>\n",
       "      <th>3</th>\n",
       "      <th>4</th>\n",
       "    </tr>\n",
       "  </thead>\n",
       "  <tbody>\n",
       "    <tr>\n",
       "      <th>0</th>\n",
       "      <td>0.694344</td>\n",
       "      <td>0.071786</td>\n",
       "      <td>0.191817</td>\n",
       "      <td>0.429858</td>\n",
       "      <td>0.538958</td>\n",
       "    </tr>\n",
       "    <tr>\n",
       "      <th>1</th>\n",
       "      <td>0.861704</td>\n",
       "      <td>0.633711</td>\n",
       "      <td>0.978100</td>\n",
       "      <td>0.072034</td>\n",
       "      <td>0.069362</td>\n",
       "    </tr>\n",
       "    <tr>\n",
       "      <th>2</th>\n",
       "      <td>0.674861</td>\n",
       "      <td>0.999032</td>\n",
       "      <td>0.296582</td>\n",
       "      <td>0.448499</td>\n",
       "      <td>0.943366</td>\n",
       "    </tr>\n",
       "    <tr>\n",
       "      <th>3</th>\n",
       "      <td>0.975078</td>\n",
       "      <td>0.560416</td>\n",
       "      <td>0.113962</td>\n",
       "      <td>0.111061</td>\n",
       "      <td>0.504165</td>\n",
       "    </tr>\n",
       "    <tr>\n",
       "      <th>4</th>\n",
       "      <td>0.133933</td>\n",
       "      <td>0.875183</td>\n",
       "      <td>0.090996</td>\n",
       "      <td>0.803651</td>\n",
       "      <td>0.262283</td>\n",
       "    </tr>\n",
       "    <tr>\n",
       "      <th>...</th>\n",
       "      <td>...</td>\n",
       "      <td>...</td>\n",
       "      <td>...</td>\n",
       "      <td>...</td>\n",
       "      <td>...</td>\n",
       "    </tr>\n",
       "    <tr>\n",
       "      <th>295</th>\n",
       "      <td>0.781062</td>\n",
       "      <td>0.711910</td>\n",
       "      <td>0.851132</td>\n",
       "      <td>0.715144</td>\n",
       "      <td>0.897372</td>\n",
       "    </tr>\n",
       "    <tr>\n",
       "      <th>296</th>\n",
       "      <td>0.063058</td>\n",
       "      <td>0.840108</td>\n",
       "      <td>0.802896</td>\n",
       "      <td>0.223215</td>\n",
       "      <td>0.243615</td>\n",
       "    </tr>\n",
       "    <tr>\n",
       "      <th>297</th>\n",
       "      <td>0.342913</td>\n",
       "      <td>0.621333</td>\n",
       "      <td>0.143416</td>\n",
       "      <td>0.742925</td>\n",
       "      <td>0.890187</td>\n",
       "    </tr>\n",
       "    <tr>\n",
       "      <th>298</th>\n",
       "      <td>0.875345</td>\n",
       "      <td>0.061815</td>\n",
       "      <td>0.675197</td>\n",
       "      <td>0.453442</td>\n",
       "      <td>0.104396</td>\n",
       "    </tr>\n",
       "    <tr>\n",
       "      <th>299</th>\n",
       "      <td>0.633690</td>\n",
       "      <td>0.865109</td>\n",
       "      <td>0.143155</td>\n",
       "      <td>0.380155</td>\n",
       "      <td>0.062694</td>\n",
       "    </tr>\n",
       "  </tbody>\n",
       "</table>\n",
       "<p>300 rows × 5 columns</p>\n",
       "</div>"
      ],
      "text/plain": [
       "            0         1         2         3         4\n",
       "0    0.694344  0.071786  0.191817  0.429858  0.538958\n",
       "1    0.861704  0.633711  0.978100  0.072034  0.069362\n",
       "2    0.674861  0.999032  0.296582  0.448499  0.943366\n",
       "3    0.975078  0.560416  0.113962  0.111061  0.504165\n",
       "4    0.133933  0.875183  0.090996  0.803651  0.262283\n",
       "..        ...       ...       ...       ...       ...\n",
       "295  0.781062  0.711910  0.851132  0.715144  0.897372\n",
       "296  0.063058  0.840108  0.802896  0.223215  0.243615\n",
       "297  0.342913  0.621333  0.143416  0.742925  0.890187\n",
       "298  0.875345  0.061815  0.675197  0.453442  0.104396\n",
       "299  0.633690  0.865109  0.143155  0.380155  0.062694\n",
       "\n",
       "[300 rows x 5 columns]"
      ]
     },
     "execution_count": 12,
     "metadata": {},
     "output_type": "execute_result"
    }
   ],
   "source": [
    "newdf"
   ]
  },
  {
   "cell_type": "code",
   "execution_count": 13,
   "metadata": {},
   "outputs": [
    {
     "data": {
      "text/plain": [
       "pandas.core.frame.DataFrame"
      ]
     },
     "execution_count": 13,
     "metadata": {},
     "output_type": "execute_result"
    }
   ],
   "source": [
    "type(newdf)"
   ]
  },
  {
   "cell_type": "markdown",
   "metadata": {},
   "source": [
    "To check the datatype"
   ]
  },
  {
   "cell_type": "code",
   "execution_count": 14,
   "metadata": {},
   "outputs": [
    {
     "data": {
      "text/plain": [
       "0    float64\n",
       "1    float64\n",
       "2    float64\n",
       "3    float64\n",
       "4    float64\n",
       "dtype: object"
      ]
     },
     "execution_count": 14,
     "metadata": {},
     "output_type": "execute_result"
    }
   ],
   "source": [
    "newdf.dtypes"
   ]
  },
  {
   "cell_type": "markdown",
   "metadata": {},
   "source": [
    "To check the number of index and columns "
   ]
  },
  {
   "cell_type": "code",
   "execution_count": 18,
   "metadata": {},
   "outputs": [
    {
     "data": {
      "text/plain": [
       "Index([  0,   1,   2,   3,   4,   5,   6,   7,   8,   9,\n",
       "       ...\n",
       "       290, 291, 292, 293, 294, 295, 296, 297, 298, 299],\n",
       "      dtype='int64', length=300)"
      ]
     },
     "execution_count": 18,
     "metadata": {},
     "output_type": "execute_result"
    }
   ],
   "source": [
    "newdf.index"
   ]
  },
  {
   "cell_type": "code",
   "execution_count": 19,
   "metadata": {},
   "outputs": [
    {
     "data": {
      "text/plain": [
       "RangeIndex(start=0, stop=5, step=1)"
      ]
     },
     "execution_count": 19,
     "metadata": {},
     "output_type": "execute_result"
    }
   ],
   "source": [
    "newdf.columns"
   ]
  },
  {
   "cell_type": "markdown",
   "metadata": {},
   "source": [
    "To convert the Data Frame into numpy array"
   ]
  },
  {
   "cell_type": "code",
   "execution_count": 20,
   "metadata": {},
   "outputs": [
    {
     "data": {
      "text/plain": [
       "array([[0.69434378, 0.07178636, 0.1918175 , 0.4298584 , 0.53895782],\n",
       "       [0.86170402, 0.63371126, 0.97810035, 0.07203407, 0.06936242],\n",
       "       [0.67486105, 0.99903217, 0.29658167, 0.44849874, 0.9433658 ],\n",
       "       ...,\n",
       "       [0.34291257, 0.62133262, 0.14341607, 0.74292534, 0.89018732],\n",
       "       [0.87534547, 0.06181511, 0.67519714, 0.45344191, 0.10439643],\n",
       "       [0.63368967, 0.86510897, 0.14315456, 0.38015549, 0.06269413]])"
      ]
     },
     "execution_count": 20,
     "metadata": {},
     "output_type": "execute_result"
    }
   ],
   "source": [
    "newdf.to_numpy()"
   ]
  },
  {
   "cell_type": "markdown",
   "metadata": {},
   "source": [
    "To take the transpose "
   ]
  },
  {
   "cell_type": "code",
   "execution_count": 21,
   "metadata": {},
   "outputs": [
    {
     "data": {
      "text/html": [
       "<div>\n",
       "<style scoped>\n",
       "    .dataframe tbody tr th:only-of-type {\n",
       "        vertical-align: middle;\n",
       "    }\n",
       "\n",
       "    .dataframe tbody tr th {\n",
       "        vertical-align: top;\n",
       "    }\n",
       "\n",
       "    .dataframe thead th {\n",
       "        text-align: right;\n",
       "    }\n",
       "</style>\n",
       "<table border=\"1\" class=\"dataframe\">\n",
       "  <thead>\n",
       "    <tr style=\"text-align: right;\">\n",
       "      <th></th>\n",
       "      <th>0</th>\n",
       "      <th>1</th>\n",
       "      <th>2</th>\n",
       "      <th>3</th>\n",
       "      <th>4</th>\n",
       "      <th>5</th>\n",
       "      <th>6</th>\n",
       "      <th>7</th>\n",
       "      <th>8</th>\n",
       "      <th>9</th>\n",
       "      <th>...</th>\n",
       "      <th>290</th>\n",
       "      <th>291</th>\n",
       "      <th>292</th>\n",
       "      <th>293</th>\n",
       "      <th>294</th>\n",
       "      <th>295</th>\n",
       "      <th>296</th>\n",
       "      <th>297</th>\n",
       "      <th>298</th>\n",
       "      <th>299</th>\n",
       "    </tr>\n",
       "  </thead>\n",
       "  <tbody>\n",
       "    <tr>\n",
       "      <th>0</th>\n",
       "      <td>0.694344</td>\n",
       "      <td>0.861704</td>\n",
       "      <td>0.674861</td>\n",
       "      <td>0.975078</td>\n",
       "      <td>0.133933</td>\n",
       "      <td>0.125589</td>\n",
       "      <td>0.659818</td>\n",
       "      <td>0.211585</td>\n",
       "      <td>0.445563</td>\n",
       "      <td>0.433903</td>\n",
       "      <td>...</td>\n",
       "      <td>0.990436</td>\n",
       "      <td>0.764078</td>\n",
       "      <td>0.008340</td>\n",
       "      <td>0.132644</td>\n",
       "      <td>0.052817</td>\n",
       "      <td>0.781062</td>\n",
       "      <td>0.063058</td>\n",
       "      <td>0.342913</td>\n",
       "      <td>0.875345</td>\n",
       "      <td>0.633690</td>\n",
       "    </tr>\n",
       "    <tr>\n",
       "      <th>1</th>\n",
       "      <td>0.071786</td>\n",
       "      <td>0.633711</td>\n",
       "      <td>0.999032</td>\n",
       "      <td>0.560416</td>\n",
       "      <td>0.875183</td>\n",
       "      <td>0.716083</td>\n",
       "      <td>0.964083</td>\n",
       "      <td>0.184363</td>\n",
       "      <td>0.616492</td>\n",
       "      <td>0.469335</td>\n",
       "      <td>...</td>\n",
       "      <td>0.677665</td>\n",
       "      <td>0.964577</td>\n",
       "      <td>0.063648</td>\n",
       "      <td>0.302510</td>\n",
       "      <td>0.767537</td>\n",
       "      <td>0.711910</td>\n",
       "      <td>0.840108</td>\n",
       "      <td>0.621333</td>\n",
       "      <td>0.061815</td>\n",
       "      <td>0.865109</td>\n",
       "    </tr>\n",
       "    <tr>\n",
       "      <th>2</th>\n",
       "      <td>0.191817</td>\n",
       "      <td>0.978100</td>\n",
       "      <td>0.296582</td>\n",
       "      <td>0.113962</td>\n",
       "      <td>0.090996</td>\n",
       "      <td>0.391800</td>\n",
       "      <td>0.862528</td>\n",
       "      <td>0.247683</td>\n",
       "      <td>0.500501</td>\n",
       "      <td>0.898194</td>\n",
       "      <td>...</td>\n",
       "      <td>0.460739</td>\n",
       "      <td>0.280622</td>\n",
       "      <td>0.837709</td>\n",
       "      <td>0.368081</td>\n",
       "      <td>0.119468</td>\n",
       "      <td>0.851132</td>\n",
       "      <td>0.802896</td>\n",
       "      <td>0.143416</td>\n",
       "      <td>0.675197</td>\n",
       "      <td>0.143155</td>\n",
       "    </tr>\n",
       "    <tr>\n",
       "      <th>3</th>\n",
       "      <td>0.429858</td>\n",
       "      <td>0.072034</td>\n",
       "      <td>0.448499</td>\n",
       "      <td>0.111061</td>\n",
       "      <td>0.803651</td>\n",
       "      <td>0.571771</td>\n",
       "      <td>0.097875</td>\n",
       "      <td>0.816966</td>\n",
       "      <td>0.048812</td>\n",
       "      <td>0.676968</td>\n",
       "      <td>...</td>\n",
       "      <td>0.821882</td>\n",
       "      <td>0.143345</td>\n",
       "      <td>0.234704</td>\n",
       "      <td>0.313165</td>\n",
       "      <td>0.865228</td>\n",
       "      <td>0.715144</td>\n",
       "      <td>0.223215</td>\n",
       "      <td>0.742925</td>\n",
       "      <td>0.453442</td>\n",
       "      <td>0.380155</td>\n",
       "    </tr>\n",
       "    <tr>\n",
       "      <th>4</th>\n",
       "      <td>0.538958</td>\n",
       "      <td>0.069362</td>\n",
       "      <td>0.943366</td>\n",
       "      <td>0.504165</td>\n",
       "      <td>0.262283</td>\n",
       "      <td>0.961267</td>\n",
       "      <td>0.983067</td>\n",
       "      <td>0.813197</td>\n",
       "      <td>0.151208</td>\n",
       "      <td>0.958602</td>\n",
       "      <td>...</td>\n",
       "      <td>0.966118</td>\n",
       "      <td>0.598772</td>\n",
       "      <td>0.009711</td>\n",
       "      <td>0.128588</td>\n",
       "      <td>0.914734</td>\n",
       "      <td>0.897372</td>\n",
       "      <td>0.243615</td>\n",
       "      <td>0.890187</td>\n",
       "      <td>0.104396</td>\n",
       "      <td>0.062694</td>\n",
       "    </tr>\n",
       "  </tbody>\n",
       "</table>\n",
       "<p>5 rows × 300 columns</p>\n",
       "</div>"
      ],
      "text/plain": [
       "        0         1         2         3         4         5         6    \\\n",
       "0  0.694344  0.861704  0.674861  0.975078  0.133933  0.125589  0.659818   \n",
       "1  0.071786  0.633711  0.999032  0.560416  0.875183  0.716083  0.964083   \n",
       "2  0.191817  0.978100  0.296582  0.113962  0.090996  0.391800  0.862528   \n",
       "3  0.429858  0.072034  0.448499  0.111061  0.803651  0.571771  0.097875   \n",
       "4  0.538958  0.069362  0.943366  0.504165  0.262283  0.961267  0.983067   \n",
       "\n",
       "        7         8         9    ...       290       291       292       293  \\\n",
       "0  0.211585  0.445563  0.433903  ...  0.990436  0.764078  0.008340  0.132644   \n",
       "1  0.184363  0.616492  0.469335  ...  0.677665  0.964577  0.063648  0.302510   \n",
       "2  0.247683  0.500501  0.898194  ...  0.460739  0.280622  0.837709  0.368081   \n",
       "3  0.816966  0.048812  0.676968  ...  0.821882  0.143345  0.234704  0.313165   \n",
       "4  0.813197  0.151208  0.958602  ...  0.966118  0.598772  0.009711  0.128588   \n",
       "\n",
       "        294       295       296       297       298       299  \n",
       "0  0.052817  0.781062  0.063058  0.342913  0.875345  0.633690  \n",
       "1  0.767537  0.711910  0.840108  0.621333  0.061815  0.865109  \n",
       "2  0.119468  0.851132  0.802896  0.143416  0.675197  0.143155  \n",
       "3  0.865228  0.715144  0.223215  0.742925  0.453442  0.380155  \n",
       "4  0.914734  0.897372  0.243615  0.890187  0.104396  0.062694  \n",
       "\n",
       "[5 rows x 300 columns]"
      ]
     },
     "execution_count": 21,
     "metadata": {},
     "output_type": "execute_result"
    }
   ],
   "source": [
    "newdf.T"
   ]
  },
  {
   "cell_type": "code",
   "execution_count": 22,
   "metadata": {},
   "outputs": [
    {
     "data": {
      "text/plain": [
       "<bound method NDFrame.head of             0         1         2         3         4\n",
       "0    0.694344  0.071786  0.191817  0.429858  0.538958\n",
       "1    0.861704  0.633711  0.978100  0.072034  0.069362\n",
       "2    0.674861  0.999032  0.296582  0.448499  0.943366\n",
       "3    0.975078  0.560416  0.113962  0.111061  0.504165\n",
       "4    0.133933  0.875183  0.090996  0.803651  0.262283\n",
       "..        ...       ...       ...       ...       ...\n",
       "295  0.781062  0.711910  0.851132  0.715144  0.897372\n",
       "296  0.063058  0.840108  0.802896  0.223215  0.243615\n",
       "297  0.342913  0.621333  0.143416  0.742925  0.890187\n",
       "298  0.875345  0.061815  0.675197  0.453442  0.104396\n",
       "299  0.633690  0.865109  0.143155  0.380155  0.062694\n",
       "\n",
       "[300 rows x 5 columns]>"
      ]
     },
     "execution_count": 22,
     "metadata": {},
     "output_type": "execute_result"
    }
   ],
   "source": [
    "newdf.head"
   ]
  },
  {
   "cell_type": "markdown",
   "metadata": {},
   "source": [
    "To sort it in the decending order"
   ]
  },
  {
   "cell_type": "code",
   "execution_count": 25,
   "metadata": {},
   "outputs": [
    {
     "data": {
      "text/html": [
       "<div>\n",
       "<style scoped>\n",
       "    .dataframe tbody tr th:only-of-type {\n",
       "        vertical-align: middle;\n",
       "    }\n",
       "\n",
       "    .dataframe tbody tr th {\n",
       "        vertical-align: top;\n",
       "    }\n",
       "\n",
       "    .dataframe thead th {\n",
       "        text-align: right;\n",
       "    }\n",
       "</style>\n",
       "<table border=\"1\" class=\"dataframe\">\n",
       "  <thead>\n",
       "    <tr style=\"text-align: right;\">\n",
       "      <th></th>\n",
       "      <th>0</th>\n",
       "      <th>1</th>\n",
       "      <th>2</th>\n",
       "      <th>3</th>\n",
       "      <th>4</th>\n",
       "    </tr>\n",
       "  </thead>\n",
       "  <tbody>\n",
       "    <tr>\n",
       "      <th>299</th>\n",
       "      <td>0.633690</td>\n",
       "      <td>0.865109</td>\n",
       "      <td>0.143155</td>\n",
       "      <td>0.380155</td>\n",
       "      <td>0.062694</td>\n",
       "    </tr>\n",
       "    <tr>\n",
       "      <th>298</th>\n",
       "      <td>0.875345</td>\n",
       "      <td>0.061815</td>\n",
       "      <td>0.675197</td>\n",
       "      <td>0.453442</td>\n",
       "      <td>0.104396</td>\n",
       "    </tr>\n",
       "    <tr>\n",
       "      <th>297</th>\n",
       "      <td>0.342913</td>\n",
       "      <td>0.621333</td>\n",
       "      <td>0.143416</td>\n",
       "      <td>0.742925</td>\n",
       "      <td>0.890187</td>\n",
       "    </tr>\n",
       "    <tr>\n",
       "      <th>296</th>\n",
       "      <td>0.063058</td>\n",
       "      <td>0.840108</td>\n",
       "      <td>0.802896</td>\n",
       "      <td>0.223215</td>\n",
       "      <td>0.243615</td>\n",
       "    </tr>\n",
       "    <tr>\n",
       "      <th>295</th>\n",
       "      <td>0.781062</td>\n",
       "      <td>0.711910</td>\n",
       "      <td>0.851132</td>\n",
       "      <td>0.715144</td>\n",
       "      <td>0.897372</td>\n",
       "    </tr>\n",
       "    <tr>\n",
       "      <th>...</th>\n",
       "      <td>...</td>\n",
       "      <td>...</td>\n",
       "      <td>...</td>\n",
       "      <td>...</td>\n",
       "      <td>...</td>\n",
       "    </tr>\n",
       "    <tr>\n",
       "      <th>4</th>\n",
       "      <td>0.133933</td>\n",
       "      <td>0.875183</td>\n",
       "      <td>0.090996</td>\n",
       "      <td>0.803651</td>\n",
       "      <td>0.262283</td>\n",
       "    </tr>\n",
       "    <tr>\n",
       "      <th>3</th>\n",
       "      <td>0.975078</td>\n",
       "      <td>0.560416</td>\n",
       "      <td>0.113962</td>\n",
       "      <td>0.111061</td>\n",
       "      <td>0.504165</td>\n",
       "    </tr>\n",
       "    <tr>\n",
       "      <th>2</th>\n",
       "      <td>0.674861</td>\n",
       "      <td>0.999032</td>\n",
       "      <td>0.296582</td>\n",
       "      <td>0.448499</td>\n",
       "      <td>0.943366</td>\n",
       "    </tr>\n",
       "    <tr>\n",
       "      <th>1</th>\n",
       "      <td>0.861704</td>\n",
       "      <td>0.633711</td>\n",
       "      <td>0.978100</td>\n",
       "      <td>0.072034</td>\n",
       "      <td>0.069362</td>\n",
       "    </tr>\n",
       "    <tr>\n",
       "      <th>0</th>\n",
       "      <td>0.694344</td>\n",
       "      <td>0.071786</td>\n",
       "      <td>0.191817</td>\n",
       "      <td>0.429858</td>\n",
       "      <td>0.538958</td>\n",
       "    </tr>\n",
       "  </tbody>\n",
       "</table>\n",
       "<p>300 rows × 5 columns</p>\n",
       "</div>"
      ],
      "text/plain": [
       "            0         1         2         3         4\n",
       "299  0.633690  0.865109  0.143155  0.380155  0.062694\n",
       "298  0.875345  0.061815  0.675197  0.453442  0.104396\n",
       "297  0.342913  0.621333  0.143416  0.742925  0.890187\n",
       "296  0.063058  0.840108  0.802896  0.223215  0.243615\n",
       "295  0.781062  0.711910  0.851132  0.715144  0.897372\n",
       "..        ...       ...       ...       ...       ...\n",
       "4    0.133933  0.875183  0.090996  0.803651  0.262283\n",
       "3    0.975078  0.560416  0.113962  0.111061  0.504165\n",
       "2    0.674861  0.999032  0.296582  0.448499  0.943366\n",
       "1    0.861704  0.633711  0.978100  0.072034  0.069362\n",
       "0    0.694344  0.071786  0.191817  0.429858  0.538958\n",
       "\n",
       "[300 rows x 5 columns]"
      ]
     },
     "execution_count": 25,
     "metadata": {},
     "output_type": "execute_result"
    }
   ],
   "source": [
    "newdf.sort_index(axis=0, ascending=False)"
   ]
  }
 ],
 "metadata": {
  "kernelspec": {
   "display_name": "base",
   "language": "python",
   "name": "python3"
  },
  "language_info": {
   "codemirror_mode": {
    "name": "ipython",
    "version": 3
   },
   "file_extension": ".py",
   "mimetype": "text/x-python",
   "name": "python",
   "nbconvert_exporter": "python",
   "pygments_lexer": "ipython3",
   "version": "3.12.4"
  }
 },
 "nbformat": 4,
 "nbformat_minor": 2
}
