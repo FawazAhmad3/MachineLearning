{
 "cells": [
  {
   "cell_type": "code",
   "execution_count": 9,
   "metadata": {},
   "outputs": [],
   "source": [
    "import numpy as np"
   ]
  },
  {
   "cell_type": "code",
   "execution_count": 10,
   "metadata": {},
   "outputs": [],
   "source": [
    "def softmax(Z_data):\n",
    "    exp_Z_data = np.exp(Z_data)\n",
    "    #print(\"exp(Z_data) = \",exp_Z_data)\n",
    "    \n",
    "    sum_of_exp_Z_data = np.sum(exp_Z_data)\n",
    "    #print(\"sum of exponentials = \", sum_of_exp_Z_data)\n",
    "    prob_dist = [exp_Zi/sum_of_exp_Z_data for exp_Zi in exp_Z_data]\n",
    "\n",
    "    return np.array(prob_dist, dtype=float)\n",
    "    "
   ]
  },
  {
   "cell_type": "code",
   "execution_count": 11,
   "metadata": {},
   "outputs": [],
   "source": [
    "Z_data = [1.25,2.44,0.78,0.12] #for cat, dog, tiger, none\n",
    "#Z_data = [1.25,0.44,0.78,1.12] #for cat, dog, tiger, none\n"
   ]
  },
  {
   "cell_type": "code",
   "execution_count": 12,
   "metadata": {},
   "outputs": [
    {
     "name": "stdout",
     "output_type": "stream",
     "text": [
      "probability of being cat =  0.19101770813831334\n",
      "probability of being dog =  0.627890718698843\n",
      "probability of being tiger =  0.11938650086860875\n",
      "probability of being none =  0.061705072294234845\n"
     ]
    }
   ],
   "source": [
    "p_cat = softmax(Z_data)[0]\n",
    "print(\"probability of being cat = \",p_cat)\n",
    "p_dog = softmax(Z_data)[1]\n",
    "print(\"probability of being dog = \",p_dog)\n",
    "p_tiger = softmax(Z_data)[2]\n",
    "print(\"probability of being tiger = \",p_tiger)\n",
    "p_none = softmax(Z_data)[3]\n",
    "print(\"probability of being none = \",p_none)"
   ]
  }
 ],
 "metadata": {
  "kernelspec": {
   "display_name": "base",
   "language": "python",
   "name": "python3"
  },
  "language_info": {
   "codemirror_mode": {
    "name": "ipython",
    "version": 3
   },
   "file_extension": ".py",
   "mimetype": "text/x-python",
   "name": "python",
   "nbconvert_exporter": "python",
   "pygments_lexer": "ipython3",
   "version": "3.12.4"
  }
 },
 "nbformat": 4,
 "nbformat_minor": 2
}
