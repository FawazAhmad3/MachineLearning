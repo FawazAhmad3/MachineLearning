{
 "cells": [
  {
   "cell_type": "code",
   "execution_count": 39,
   "metadata": {},
   "outputs": [],
   "source": [
    "import os\n",
    "import numpy as np\n",
    "from PIL import Image, UnidentifiedImageError #PIL is python image library\n",
    "import matplotlib.pyplot as plt\n",
    "import random\n",
    "import tensorflow as tf\n",
    "from tensorflow.keras.models import Sequential\n",
    "from tensorflow.keras.layers import Conv2D, MaxPooling2D, Flatten, Dense, Dropout, BatchNormalization, GlobalAveragePooling2D\n",
    "from tensorflow.keras.callbacks import EarlyStopping, ReduceLROnPlateau\n",
    "from tensorflow.keras.utils import to_categorical\n",
    "from tensorflow.keras.preprocessing.image import ImageDataGenerator"
   ]
  },
  {
   "cell_type": "code",
   "execution_count": 21,
   "metadata": {},
   "outputs": [],
   "source": [
    "# Function to load images from a directory and label them\n",
    "def load_images_from_folder(folder):\n",
    "    images = []\n",
    "    labels = []\n",
    "    class_names = sorted([d for d in os.listdir(folder) if os.path.isdir(os.path.join(folder, d))])  # Filter to only directories\n",
    "    for label, class_name in enumerate(class_names):\n",
    "        class_folder = os.path.join(folder, class_name)\n",
    "        for filename in os.listdir(class_folder):\n",
    "            img_path = os.path.join(class_folder, filename)\n",
    "            try:\n",
    "                # Open the image file and convert to RGB\n",
    "                with Image.open(img_path) as img:\n",
    "                    img = img.convert('RGB')  # Ensure all images are RGB\n",
    "                    img = img.resize((100, 100))\n",
    "                    img_array = np.array(img)\n",
    "                    images.append(img_array)\n",
    "                    labels.append(label)\n",
    "            except (IOError, UnidentifiedImageError) as e:\n",
    "                # Skip files that can't be identified as images\n",
    "                print(f\"Skipping file {img_path}: {e}\")\n",
    "    return np.array(images), np.array(labels)\n",
    "\n",
    "# Load training and testing data\n",
    "train_folder = 'multiclassCNN/train'\n",
    "test_folder = 'multiclassCNN/test'\n",
    "\n",
    "x_train, y_train = load_images_from_folder(train_folder)\n",
    "x_test, y_test = load_images_from_folder(test_folder)\n",
    "\n",
    "# Normalize the data\n",
    "x_train = x_train / 255.0\n",
    "x_test = x_test / 255.0"
   ]
  },
  {
   "cell_type": "code",
   "execution_count": 22,
   "metadata": {},
   "outputs": [],
   "source": [
    "\n",
    "# Convert labels to categorical (one-hot encoding)\n",
    "num_classes = len(np.unique(y_train))\n",
    "y_train = to_categorical(y_train, num_classes)\n",
    "y_test = to_categorical(y_test, num_classes)"
   ]
  },
  {
   "cell_type": "code",
   "execution_count": 23,
   "metadata": {},
   "outputs": [],
   "source": [
    "model = Sequential([\n",
    "    Conv2D(32, kernel_size=(3, 3), activation='relu', input_shape=(100, 100, 3)),\n",
    "    MaxPooling2D(pool_size=(2, 2)),\n",
    "    Conv2D(64, kernel_size=(3, 3), activation='relu'),\n",
    "    Dropout(0.2),\n",
    "    MaxPooling2D(pool_size=(2, 2)),\n",
    "    Conv2D(128, kernel_size=(3, 3), activation='relu'),\n",
    "    MaxPooling2D(pool_size=(2, 2)),\n",
    "    Flatten(),\n",
    "    Dense(256, activation='relu'),\n",
    "    Dropout(0.5),\n",
    "    Dense(num_classes, activation='softmax') \n",
    "])\n"
   ]
  },
  {
   "cell_type": "code",
   "execution_count": 24,
   "metadata": {},
   "outputs": [],
   "source": [
    "\n",
    "# Define callbacks\n",
    "early_stopping = EarlyStopping(monitor='val_loss', patience=5, restore_best_weights=True)\n",
    "lr_scheduler = ReduceLROnPlateau(monitor='val_loss', factor=0.5, patience=3, min_lr=1e-6)\n"
   ]
  },
  {
   "cell_type": "code",
   "execution_count": 25,
   "metadata": {},
   "outputs": [],
   "source": [
    "\n",
    "# Data augmentation\n",
    "datagen = ImageDataGenerator(\n",
    "    rotation_range=20,\n",
    "    width_shift_range=0.2,\n",
    "    height_shift_range=0.2,\n",
    "    shear_range=0.2,\n",
    "    zoom_range=0.2,\n",
    "    horizontal_flip=True,\n",
    "    fill_mode='nearest'\n",
    ")\n"
   ]
  },
  {
   "cell_type": "code",
   "execution_count": 29,
   "metadata": {},
   "outputs": [
    {
     "name": "stdout",
     "output_type": "stream",
     "text": [
      "Epoch 1/50\n",
      "\u001b[1m229/229\u001b[0m \u001b[32m━━━━━━━━━━━━━━━━━━━━\u001b[0m\u001b[37m\u001b[0m \u001b[1m49s\u001b[0m 200ms/step - accuracy: 0.4924 - loss: 1.6167 - val_accuracy: 0.5149 - val_loss: 1.5930 - learning_rate: 0.0010\n",
      "Epoch 2/50\n",
      "\u001b[1m229/229\u001b[0m \u001b[32m━━━━━━━━━━━━━━━━━━━━\u001b[0m\u001b[37m\u001b[0m \u001b[1m51s\u001b[0m 220ms/step - accuracy: 0.5087 - loss: 1.5578 - val_accuracy: 0.5111 - val_loss: 1.6310 - learning_rate: 0.0010\n",
      "Epoch 3/50\n",
      "\u001b[1m229/229\u001b[0m \u001b[32m━━━━━━━━━━━━━━━━━━━━\u001b[0m\u001b[37m\u001b[0m \u001b[1m48s\u001b[0m 206ms/step - accuracy: 0.5091 - loss: 1.5587 - val_accuracy: 0.5204 - val_loss: 1.5804 - learning_rate: 0.0010\n",
      "Epoch 4/50\n",
      "\u001b[1m229/229\u001b[0m \u001b[32m━━━━━━━━━━━━━━━━━━━━\u001b[0m\u001b[37m\u001b[0m \u001b[1m47s\u001b[0m 203ms/step - accuracy: 0.5163 - loss: 1.5481 - val_accuracy: 0.5285 - val_loss: 1.6027 - learning_rate: 0.0010\n",
      "Epoch 5/50\n",
      "\u001b[1m229/229\u001b[0m \u001b[32m━━━━━━━━━━━━━━━━━━━━\u001b[0m\u001b[37m\u001b[0m \u001b[1m48s\u001b[0m 208ms/step - accuracy: 0.5231 - loss: 1.5300 - val_accuracy: 0.5367 - val_loss: 1.5245 - learning_rate: 0.0010\n",
      "Epoch 6/50\n",
      "\u001b[1m229/229\u001b[0m \u001b[32m━━━━━━━━━━━━━━━━━━━━\u001b[0m\u001b[37m\u001b[0m \u001b[1m48s\u001b[0m 208ms/step - accuracy: 0.5165 - loss: 1.5415 - val_accuracy: 0.5253 - val_loss: 1.5616 - learning_rate: 0.0010\n",
      "Epoch 7/50\n",
      "\u001b[1m229/229\u001b[0m \u001b[32m━━━━━━━━━━━━━━━━━━━━\u001b[0m\u001b[37m\u001b[0m \u001b[1m46s\u001b[0m 200ms/step - accuracy: 0.5178 - loss: 1.5202 - val_accuracy: 0.5318 - val_loss: 1.5720 - learning_rate: 0.0010\n",
      "Epoch 8/50\n",
      "\u001b[1m229/229\u001b[0m \u001b[32m━━━━━━━━━━━━━━━━━━━━\u001b[0m\u001b[37m\u001b[0m \u001b[1m51s\u001b[0m 222ms/step - accuracy: 0.5234 - loss: 1.5000 - val_accuracy: 0.5432 - val_loss: 1.5132 - learning_rate: 0.0010\n",
      "Epoch 9/50\n",
      "\u001b[1m229/229\u001b[0m \u001b[32m━━━━━━━━━━━━━━━━━━━━\u001b[0m\u001b[37m\u001b[0m \u001b[1m49s\u001b[0m 211ms/step - accuracy: 0.5338 - loss: 1.4716 - val_accuracy: 0.5551 - val_loss: 1.4797 - learning_rate: 0.0010\n",
      "Epoch 10/50\n",
      "\u001b[1m229/229\u001b[0m \u001b[32m━━━━━━━━━━━━━━━━━━━━\u001b[0m\u001b[37m\u001b[0m \u001b[1m47s\u001b[0m 204ms/step - accuracy: 0.5359 - loss: 1.4921 - val_accuracy: 0.5443 - val_loss: 1.5033 - learning_rate: 0.0010\n",
      "Epoch 11/50\n",
      "\u001b[1m229/229\u001b[0m \u001b[32m━━━━━━━━━━━━━━━━━━━━\u001b[0m\u001b[37m\u001b[0m \u001b[1m50s\u001b[0m 218ms/step - accuracy: 0.5469 - loss: 1.4711 - val_accuracy: 0.5578 - val_loss: 1.5055 - learning_rate: 0.0010\n",
      "Epoch 12/50\n",
      "\u001b[1m229/229\u001b[0m \u001b[32m━━━━━━━━━━━━━━━━━━━━\u001b[0m\u001b[37m\u001b[0m \u001b[1m48s\u001b[0m 206ms/step - accuracy: 0.5555 - loss: 1.4270 - val_accuracy: 0.5513 - val_loss: 1.4734 - learning_rate: 0.0010\n",
      "Epoch 13/50\n",
      "\u001b[1m229/229\u001b[0m \u001b[32m━━━━━━━━━━━━━━━━━━━━\u001b[0m\u001b[37m\u001b[0m \u001b[1m49s\u001b[0m 210ms/step - accuracy: 0.5368 - loss: 1.4717 - val_accuracy: 0.5606 - val_loss: 1.4610 - learning_rate: 0.0010\n",
      "Epoch 14/50\n",
      "\u001b[1m229/229\u001b[0m \u001b[32m━━━━━━━━━━━━━━━━━━━━\u001b[0m\u001b[37m\u001b[0m \u001b[1m46s\u001b[0m 197ms/step - accuracy: 0.5602 - loss: 1.4023 - val_accuracy: 0.5263 - val_loss: 1.5775 - learning_rate: 0.0010\n",
      "Epoch 15/50\n",
      "\u001b[1m229/229\u001b[0m \u001b[32m━━━━━━━━━━━━━━━━━━━━\u001b[0m\u001b[37m\u001b[0m \u001b[1m47s\u001b[0m 204ms/step - accuracy: 0.5445 - loss: 1.4642 - val_accuracy: 0.5595 - val_loss: 1.4546 - learning_rate: 0.0010\n",
      "Epoch 16/50\n",
      "\u001b[1m229/229\u001b[0m \u001b[32m━━━━━━━━━━━━━━━━━━━━\u001b[0m\u001b[37m\u001b[0m \u001b[1m53s\u001b[0m 228ms/step - accuracy: 0.5518 - loss: 1.4308 - val_accuracy: 0.5611 - val_loss: 1.4542 - learning_rate: 0.0010\n",
      "Epoch 17/50\n",
      "\u001b[1m229/229\u001b[0m \u001b[32m━━━━━━━━━━━━━━━━━━━━\u001b[0m\u001b[37m\u001b[0m \u001b[1m50s\u001b[0m 215ms/step - accuracy: 0.5749 - loss: 1.3684 - val_accuracy: 0.5774 - val_loss: 1.4223 - learning_rate: 0.0010\n",
      "Epoch 18/50\n",
      "\u001b[1m229/229\u001b[0m \u001b[32m━━━━━━━━━━━━━━━━━━━━\u001b[0m\u001b[37m\u001b[0m \u001b[1m52s\u001b[0m 225ms/step - accuracy: 0.5741 - loss: 1.3659 - val_accuracy: 0.5595 - val_loss: 1.4296 - learning_rate: 0.0010\n",
      "Epoch 19/50\n",
      "\u001b[1m229/229\u001b[0m \u001b[32m━━━━━━━━━━━━━━━━━━━━\u001b[0m\u001b[37m\u001b[0m \u001b[1m49s\u001b[0m 213ms/step - accuracy: 0.5764 - loss: 1.3591 - val_accuracy: 0.5872 - val_loss: 1.4234 - learning_rate: 0.0010\n",
      "Epoch 20/50\n",
      "\u001b[1m229/229\u001b[0m \u001b[32m━━━━━━━━━━━━━━━━━━━━\u001b[0m\u001b[37m\u001b[0m \u001b[1m52s\u001b[0m 225ms/step - accuracy: 0.5768 - loss: 1.3642 - val_accuracy: 0.5698 - val_loss: 1.4444 - learning_rate: 0.0010\n",
      "Epoch 21/50\n",
      "\u001b[1m229/229\u001b[0m \u001b[32m━━━━━━━━━━━━━━━━━━━━\u001b[0m\u001b[37m\u001b[0m \u001b[1m52s\u001b[0m 224ms/step - accuracy: 0.5839 - loss: 1.2943 - val_accuracy: 0.5888 - val_loss: 1.3825 - learning_rate: 5.0000e-04\n",
      "Epoch 22/50\n",
      "\u001b[1m229/229\u001b[0m \u001b[32m━━━━━━━━━━━━━━━━━━━━\u001b[0m\u001b[37m\u001b[0m \u001b[1m53s\u001b[0m 230ms/step - accuracy: 0.6035 - loss: 1.2536 - val_accuracy: 0.5703 - val_loss: 1.4663 - learning_rate: 5.0000e-04\n",
      "Epoch 23/50\n",
      "\u001b[1m229/229\u001b[0m \u001b[32m━━━━━━━━━━━━━━━━━━━━\u001b[0m\u001b[37m\u001b[0m \u001b[1m51s\u001b[0m 217ms/step - accuracy: 0.6010 - loss: 1.2850 - val_accuracy: 0.5980 - val_loss: 1.3897 - learning_rate: 5.0000e-04\n",
      "Epoch 24/50\n",
      "\u001b[1m229/229\u001b[0m \u001b[32m━━━━━━━━━━━━━━━━━━━━\u001b[0m\u001b[37m\u001b[0m \u001b[1m50s\u001b[0m 216ms/step - accuracy: 0.6073 - loss: 1.2417 - val_accuracy: 0.5888 - val_loss: 1.4027 - learning_rate: 5.0000e-04\n",
      "Epoch 25/50\n",
      "\u001b[1m229/229\u001b[0m \u001b[32m━━━━━━━━━━━━━━━━━━━━\u001b[0m\u001b[37m\u001b[0m \u001b[1m49s\u001b[0m 210ms/step - accuracy: 0.6166 - loss: 1.2139 - val_accuracy: 0.6105 - val_loss: 1.3484 - learning_rate: 2.5000e-04\n",
      "Epoch 26/50\n",
      "\u001b[1m229/229\u001b[0m \u001b[32m━━━━━━━━━━━━━━━━━━━━\u001b[0m\u001b[37m\u001b[0m \u001b[1m53s\u001b[0m 229ms/step - accuracy: 0.6214 - loss: 1.2045 - val_accuracy: 0.6008 - val_loss: 1.3510 - learning_rate: 2.5000e-04\n",
      "Epoch 27/50\n",
      "\u001b[1m229/229\u001b[0m \u001b[32m━━━━━━━━━━━━━━━━━━━━\u001b[0m\u001b[37m\u001b[0m \u001b[1m57s\u001b[0m 246ms/step - accuracy: 0.6274 - loss: 1.1922 - val_accuracy: 0.6046 - val_loss: 1.3566 - learning_rate: 2.5000e-04\n",
      "Epoch 28/50\n",
      "\u001b[1m229/229\u001b[0m \u001b[32m━━━━━━━━━━━━━━━━━━━━\u001b[0m\u001b[37m\u001b[0m \u001b[1m62s\u001b[0m 266ms/step - accuracy: 0.6185 - loss: 1.1944 - val_accuracy: 0.6154 - val_loss: 1.3361 - learning_rate: 2.5000e-04\n",
      "Epoch 29/50\n",
      "\u001b[1m229/229\u001b[0m \u001b[32m━━━━━━━━━━━━━━━━━━━━\u001b[0m\u001b[37m\u001b[0m \u001b[1m64s\u001b[0m 275ms/step - accuracy: 0.6290 - loss: 1.1629 - val_accuracy: 0.6149 - val_loss: 1.3256 - learning_rate: 2.5000e-04\n",
      "Epoch 30/50\n",
      "\u001b[1m229/229\u001b[0m \u001b[32m━━━━━━━━━━━━━━━━━━━━\u001b[0m\u001b[37m\u001b[0m \u001b[1m52s\u001b[0m 225ms/step - accuracy: 0.6318 - loss: 1.1758 - val_accuracy: 0.6089 - val_loss: 1.3568 - learning_rate: 2.5000e-04\n",
      "Epoch 31/50\n",
      "\u001b[1m229/229\u001b[0m \u001b[32m━━━━━━━━━━━━━━━━━━━━\u001b[0m\u001b[37m\u001b[0m \u001b[1m65s\u001b[0m 278ms/step - accuracy: 0.6273 - loss: 1.1426 - val_accuracy: 0.6046 - val_loss: 1.3259 - learning_rate: 2.5000e-04\n",
      "Epoch 32/50\n",
      "\u001b[1m229/229\u001b[0m \u001b[32m━━━━━━━━━━━━━━━━━━━━\u001b[0m\u001b[37m\u001b[0m \u001b[1m70s\u001b[0m 300ms/step - accuracy: 0.6366 - loss: 1.1599 - val_accuracy: 0.6056 - val_loss: 1.3249 - learning_rate: 2.5000e-04\n",
      "Epoch 33/50\n",
      "\u001b[1m229/229\u001b[0m \u001b[32m━━━━━━━━━━━━━━━━━━━━\u001b[0m\u001b[37m\u001b[0m \u001b[1m66s\u001b[0m 282ms/step - accuracy: 0.6389 - loss: 1.1513 - val_accuracy: 0.6105 - val_loss: 1.3392 - learning_rate: 2.5000e-04\n",
      "Epoch 34/50\n",
      "\u001b[1m229/229\u001b[0m \u001b[32m━━━━━━━━━━━━━━━━━━━━\u001b[0m\u001b[37m\u001b[0m \u001b[1m61s\u001b[0m 263ms/step - accuracy: 0.6398 - loss: 1.1254 - val_accuracy: 0.6056 - val_loss: 1.3655 - learning_rate: 2.5000e-04\n",
      "Epoch 35/50\n",
      "\u001b[1m229/229\u001b[0m \u001b[32m━━━━━━━━━━━━━━━━━━━━\u001b[0m\u001b[37m\u001b[0m \u001b[1m62s\u001b[0m 265ms/step - accuracy: 0.6471 - loss: 1.1106 - val_accuracy: 0.6187 - val_loss: 1.3305 - learning_rate: 2.5000e-04\n",
      "Epoch 36/50\n",
      "\u001b[1m229/229\u001b[0m \u001b[32m━━━━━━━━━━━━━━━━━━━━\u001b[0m\u001b[37m\u001b[0m \u001b[1m52s\u001b[0m 224ms/step - accuracy: 0.6481 - loss: 1.1072 - val_accuracy: 0.6225 - val_loss: 1.3205 - learning_rate: 1.2500e-04\n",
      "Epoch 37/50\n",
      "\u001b[1m229/229\u001b[0m \u001b[32m━━━━━━━━━━━━━━━━━━━━\u001b[0m\u001b[37m\u001b[0m \u001b[1m50s\u001b[0m 216ms/step - accuracy: 0.6510 - loss: 1.0963 - val_accuracy: 0.6138 - val_loss: 1.3341 - learning_rate: 1.2500e-04\n",
      "Epoch 38/50\n",
      "\u001b[1m229/229\u001b[0m \u001b[32m━━━━━━━━━━━━━━━━━━━━\u001b[0m\u001b[37m\u001b[0m \u001b[1m53s\u001b[0m 230ms/step - accuracy: 0.6478 - loss: 1.1095 - val_accuracy: 0.6236 - val_loss: 1.3260 - learning_rate: 1.2500e-04\n",
      "Epoch 39/50\n",
      "\u001b[1m229/229\u001b[0m \u001b[32m━━━━━━━━━━━━━━━━━━━━\u001b[0m\u001b[37m\u001b[0m \u001b[1m50s\u001b[0m 213ms/step - accuracy: 0.6404 - loss: 1.1213 - val_accuracy: 0.6236 - val_loss: 1.3091 - learning_rate: 1.2500e-04\n",
      "Epoch 40/50\n",
      "\u001b[1m229/229\u001b[0m \u001b[32m━━━━━━━━━━━━━━━━━━━━\u001b[0m\u001b[37m\u001b[0m \u001b[1m49s\u001b[0m 211ms/step - accuracy: 0.6508 - loss: 1.1019 - val_accuracy: 0.6187 - val_loss: 1.3276 - learning_rate: 1.2500e-04\n",
      "Epoch 41/50\n",
      "\u001b[1m229/229\u001b[0m \u001b[32m━━━━━━━━━━━━━━━━━━━━\u001b[0m\u001b[37m\u001b[0m \u001b[1m50s\u001b[0m 216ms/step - accuracy: 0.6512 - loss: 1.0724 - val_accuracy: 0.6247 - val_loss: 1.3142 - learning_rate: 1.2500e-04\n",
      "Epoch 42/50\n",
      "\u001b[1m229/229\u001b[0m \u001b[32m━━━━━━━━━━━━━━━━━━━━\u001b[0m\u001b[37m\u001b[0m \u001b[1m50s\u001b[0m 216ms/step - accuracy: 0.6360 - loss: 1.1261 - val_accuracy: 0.6219 - val_loss: 1.3118 - learning_rate: 1.2500e-04\n",
      "Epoch 43/50\n",
      "\u001b[1m229/229\u001b[0m \u001b[32m━━━━━━━━━━━━━━━━━━━━\u001b[0m\u001b[37m\u001b[0m \u001b[1m50s\u001b[0m 214ms/step - accuracy: 0.6508 - loss: 1.0851 - val_accuracy: 0.6230 - val_loss: 1.3110 - learning_rate: 6.2500e-05\n",
      "Epoch 44/50\n",
      "\u001b[1m229/229\u001b[0m \u001b[32m━━━━━━━━━━━━━━━━━━━━\u001b[0m\u001b[37m\u001b[0m \u001b[1m49s\u001b[0m 210ms/step - accuracy: 0.6600 - loss: 1.0980 - val_accuracy: 0.6209 - val_loss: 1.3090 - learning_rate: 6.2500e-05\n",
      "Epoch 45/50\n",
      "\u001b[1m229/229\u001b[0m \u001b[32m━━━━━━━━━━━━━━━━━━━━\u001b[0m\u001b[37m\u001b[0m \u001b[1m50s\u001b[0m 215ms/step - accuracy: 0.6575 - loss: 1.0697 - val_accuracy: 0.6295 - val_loss: 1.3093 - learning_rate: 6.2500e-05\n",
      "Epoch 46/50\n",
      "\u001b[1m229/229\u001b[0m \u001b[32m━━━━━━━━━━━━━━━━━━━━\u001b[0m\u001b[37m\u001b[0m \u001b[1m50s\u001b[0m 216ms/step - accuracy: 0.6546 - loss: 1.0622 - val_accuracy: 0.6209 - val_loss: 1.3166 - learning_rate: 6.2500e-05\n",
      "Epoch 47/50\n",
      "\u001b[1m229/229\u001b[0m \u001b[32m━━━━━━━━━━━━━━━━━━━━\u001b[0m\u001b[37m\u001b[0m \u001b[1m50s\u001b[0m 213ms/step - accuracy: 0.6602 - loss: 1.0803 - val_accuracy: 0.6274 - val_loss: 1.3132 - learning_rate: 6.2500e-05\n",
      "Epoch 48/50\n",
      "\u001b[1m229/229\u001b[0m \u001b[32m━━━━━━━━━━━━━━━━━━━━\u001b[0m\u001b[37m\u001b[0m \u001b[1m52s\u001b[0m 224ms/step - accuracy: 0.6509 - loss: 1.0997 - val_accuracy: 0.6263 - val_loss: 1.3070 - learning_rate: 3.1250e-05\n",
      "Epoch 49/50\n",
      "\u001b[1m229/229\u001b[0m \u001b[32m━━━━━━━━━━━━━━━━━━━━\u001b[0m\u001b[37m\u001b[0m \u001b[1m51s\u001b[0m 221ms/step - accuracy: 0.6513 - loss: 1.0832 - val_accuracy: 0.6225 - val_loss: 1.3132 - learning_rate: 3.1250e-05\n",
      "Epoch 50/50\n",
      "\u001b[1m229/229\u001b[0m \u001b[32m━━━━━━━━━━━━━━━━━━━━\u001b[0m\u001b[37m\u001b[0m \u001b[1m50s\u001b[0m 214ms/step - accuracy: 0.6612 - loss: 1.0513 - val_accuracy: 0.6236 - val_loss: 1.3113 - learning_rate: 3.1250e-05\n"
     ]
    },
    {
     "data": {
      "text/plain": [
       "<keras.src.callbacks.history.History at 0x1612849e0>"
      ]
     },
     "execution_count": 29,
     "metadata": {},
     "output_type": "execute_result"
    }
   ],
   "source": [
    "# Compile the model\n",
    "model.compile(optimizer='adam', loss='categorical_crossentropy', metrics=['accuracy'])\n",
    "\n",
    "# Train the model\n",
    "model.fit(datagen.flow(x_train, y_train, batch_size=32), epochs=50, validation_data=(x_test, y_test), callbacks=[early_stopping, lr_scheduler])\n"
   ]
  },
  {
   "cell_type": "code",
   "execution_count": 61,
   "metadata": {},
   "outputs": [
    {
     "name": "stdout",
     "output_type": "stream",
     "text": [
      "\u001b[1m58/58\u001b[0m \u001b[32m━━━━━━━━━━━━━━━━━━━━\u001b[0m\u001b[37m\u001b[0m \u001b[1m3s\u001b[0m 51ms/step - accuracy: 0.6551 - loss: 1.2418\n"
     ]
    },
    {
     "data": {
      "text/plain": [
       "[1.3076902627944946, 0.627919614315033]"
      ]
     },
     "execution_count": 61,
     "metadata": {},
     "output_type": "execute_result"
    }
   ],
   "source": [
    "\n",
    "# Evaluate the model\n",
    "model.evaluate(x_test, y_test)\n"
   ]
  },
  {
   "cell_type": "code",
   "execution_count": 62,
   "metadata": {},
   "outputs": [
    {
     "data": {
      "image/png": "[encoded data removed]",
      "text/plain": [
       "<Figure size 640x480 with 1 Axes>"
      ]
     },
     "metadata": {},
     "output_type": "display_data"
    },
    {
     "name": "stdout",
     "output_type": "stream",
     "text": [
      "\u001b[1m1/1\u001b[0m \u001b[32m━━━━━━━━━━━━━━━━━━━━\u001b[0m\u001b[37m\u001b[0m \u001b[1m0s\u001b[0m 40ms/step\n",
      "Predicted Class: cricket_ball, Actual Class: cricket_ball\n"
     ]
    }
   ],
   "source": [
    "# Display a random image and its prediction\n",
    "idx2 = random.randint(0, len(x_test) - 1)\n",
    "plt.imshow(x_test[idx2])\n",
    "plt.show()\n",
    "\n",
    "# Predict the class of the image\n",
    "y_pred = model.predict(x_test[idx2, :].reshape(1, 100, 100, 3))\n",
    "predicted_class_idx = np.argmax(y_pred)\n",
    "\n",
    "# Get the class names from the folder structure\n",
    "class_names = sorted([d for d in os.listdir(train_folder) if os.path.isdir(os.path.join(train_folder, d))])\n",
    "\n",
    "# Map the predicted class index and actual class index to their respective class names\n",
    "predicted_class_name = class_names[predicted_class_idx]\n",
    "actual_class_name = class_names[np.argmax(y_test[idx2])]\n",
    "\n",
    "print(f\"Predicted Class: {predicted_class_name}, Actual Class: {actual_class_name}\")\n"
   ]
  }
 ],
 "metadata": {
  "kernelspec": {
   "display_name": "base",
   "language": "python",
   "name": "python3"
  },
  "language_info": {
   "codemirror_mode": {
    "name": "ipython",
    "version": 3
   },
   "file_extension": ".py",
   "mimetype": "text/x-python",
   "name": "python",
   "nbconvert_exporter": "python",
   "pygments_lexer": "ipython3",
   "version": "3.12.4"
  }
 },
 "nbformat": 4,
 "nbformat_minor": 2
}
